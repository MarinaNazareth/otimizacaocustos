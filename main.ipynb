{
 "cells": [
  {
   "cell_type": "markdown",
   "id": "784f3541",
   "metadata": {},
   "source": [
    "## importação de bibliotecas"
   ]
  },
  {
   "cell_type": "code",
   "execution_count": 34,
   "id": "4a0964e2",
   "metadata": {},
   "outputs": [],
   "source": [
    "import pandas as pd\n",
    "import matplotlib.pyplot as plt\n",
    "import seaborn as sns\n",
    "from sklearn.model_selection import train_test_split\n",
    "from sklearn.linear_model import LinearRegression\n",
    "from sklearn.metrics import mean_squared_error, r2_score"
   ]
  },
  {
   "cell_type": "markdown",
   "id": "e0f6049b",
   "metadata": {},
   "source": [
    "## Análise exploratória"
   ]
  },
  {
   "cell_type": "code",
   "execution_count": 6,
   "id": "f4608939",
   "metadata": {},
   "outputs": [],
   "source": [
    "metadados = pd.read_excel(r\"C:\\Users\\Documents\\planodesaude\\base_plano_de_saude.xlsx\",sheet_name='Metadados')\n",
    "dados = pd.read_excel(r\"C:\\Users\\Documents\\planodesaude\\base_plano_de_saude.xlsx\",sheet_name='base')"
   ]
  },
  {
   "cell_type": "code",
   "execution_count": 10,
   "id": "54a75785",
   "metadata": {},
   "outputs": [
    {
     "data": {
      "text/html": [
       "<div>\n",
       "<style scoped>\n",
       "    .dataframe tbody tr th:only-of-type {\n",
       "        vertical-align: middle;\n",
       "    }\n",
       "\n",
       "    .dataframe tbody tr th {\n",
       "        vertical-align: top;\n",
       "    }\n",
       "\n",
       "    .dataframe thead th {\n",
       "        text-align: right;\n",
       "    }\n",
       "</style>\n",
       "<table border=\"1\" class=\"dataframe\">\n",
       "  <thead>\n",
       "    <tr style=\"text-align: right;\">\n",
       "      <th></th>\n",
       "      <th>Variável</th>\n",
       "      <th>Descrição</th>\n",
       "    </tr>\n",
       "  </thead>\n",
       "  <tbody>\n",
       "    <tr>\n",
       "      <th>0</th>\n",
       "      <td>Idade</td>\n",
       "      <td>Idade do colaborador</td>\n",
       "    </tr>\n",
       "    <tr>\n",
       "      <th>1</th>\n",
       "      <td>Sexo</td>\n",
       "      <td>Sexo do colaborador</td>\n",
       "    </tr>\n",
       "    <tr>\n",
       "      <th>2</th>\n",
       "      <td>IMC</td>\n",
       "      <td>Índice de Massa Corporal do colaborador</td>\n",
       "    </tr>\n",
       "    <tr>\n",
       "      <th>3</th>\n",
       "      <td>Qte_Filhos</td>\n",
       "      <td>Qte de filhos que o colaborador tem</td>\n",
       "    </tr>\n",
       "    <tr>\n",
       "      <th>4</th>\n",
       "      <td>Fumante</td>\n",
       "      <td>Flag se o colaborador é fumante ou não fumante</td>\n",
       "    </tr>\n",
       "    <tr>\n",
       "      <th>5</th>\n",
       "      <td>Região</td>\n",
       "      <td>Região do Brasil onde o colaborador mora</td>\n",
       "    </tr>\n",
       "    <tr>\n",
       "      <th>6</th>\n",
       "      <td>Custo_Saude</td>\n",
       "      <td>Custo de Plano de Saúde que esse colaborador t...</td>\n",
       "    </tr>\n",
       "  </tbody>\n",
       "</table>\n",
       "</div>"
      ],
      "text/plain": [
       "      Variável                                          Descrição\n",
       "0        Idade                               Idade do colaborador\n",
       "1         Sexo                                Sexo do colaborador\n",
       "2          IMC            Índice de Massa Corporal do colaborador\n",
       "3   Qte_Filhos                Qte de filhos que o colaborador tem\n",
       "4      Fumante     Flag se o colaborador é fumante ou não fumante\n",
       "5       Região           Região do Brasil onde o colaborador mora\n",
       "6  Custo_Saude  Custo de Plano de Saúde que esse colaborador t..."
      ]
     },
     "execution_count": 10,
     "metadata": {},
     "output_type": "execute_result"
    }
   ],
   "source": [
    "metadados\n",
    "#explicação de cada variavel presente nos dados"
   ]
  },
  {
   "cell_type": "code",
   "execution_count": 9,
   "id": "3a380efe",
   "metadata": {},
   "outputs": [
    {
     "name": "stdout",
     "output_type": "stream",
     "text": [
      "<class 'pandas.core.frame.DataFrame'>\n",
      "RangeIndex: 1338 entries, 0 to 1337\n",
      "Data columns (total 7 columns):\n",
      " #   Column       Non-Null Count  Dtype  \n",
      "---  ------       --------------  -----  \n",
      " 0   Idade        1338 non-null   int64  \n",
      " 1   Sexo         1338 non-null   object \n",
      " 2   IMC          1338 non-null   float64\n",
      " 3   Qte_Filhos   1338 non-null   int64  \n",
      " 4   Fumante      1338 non-null   object \n",
      " 5   Região       1338 non-null   object \n",
      " 6   Custo_Saude  1338 non-null   float64\n",
      "dtypes: float64(2), int64(2), object(3)\n",
      "memory usage: 73.3+ KB\n"
     ]
    }
   ],
   "source": [
    "#dtype de cada coluna e preenchimento\n",
    "dados.info()"
   ]
  },
  {
   "cell_type": "code",
   "execution_count": 12,
   "id": "8a9288b0",
   "metadata": {},
   "outputs": [
    {
     "data": {
      "text/html": [
       "<div>\n",
       "<style scoped>\n",
       "    .dataframe tbody tr th:only-of-type {\n",
       "        vertical-align: middle;\n",
       "    }\n",
       "\n",
       "    .dataframe tbody tr th {\n",
       "        vertical-align: top;\n",
       "    }\n",
       "\n",
       "    .dataframe thead th {\n",
       "        text-align: right;\n",
       "    }\n",
       "</style>\n",
       "<table border=\"1\" class=\"dataframe\">\n",
       "  <thead>\n",
       "    <tr style=\"text-align: right;\">\n",
       "      <th></th>\n",
       "      <th>Idade</th>\n",
       "      <th>Sexo</th>\n",
       "      <th>IMC</th>\n",
       "      <th>Qte_Filhos</th>\n",
       "      <th>Fumante</th>\n",
       "      <th>Região</th>\n",
       "      <th>Custo_Saude</th>\n",
       "    </tr>\n",
       "  </thead>\n",
       "  <tbody>\n",
       "    <tr>\n",
       "      <th>0</th>\n",
       "      <td>19</td>\n",
       "      <td>Feminino</td>\n",
       "      <td>27.900</td>\n",
       "      <td>0</td>\n",
       "      <td>Sim</td>\n",
       "      <td>Centro</td>\n",
       "      <td>1688.492400</td>\n",
       "    </tr>\n",
       "    <tr>\n",
       "      <th>1</th>\n",
       "      <td>18</td>\n",
       "      <td>Masculino</td>\n",
       "      <td>33.770</td>\n",
       "      <td>1</td>\n",
       "      <td>Não</td>\n",
       "      <td>Sudeste</td>\n",
       "      <td>172.555230</td>\n",
       "    </tr>\n",
       "    <tr>\n",
       "      <th>2</th>\n",
       "      <td>28</td>\n",
       "      <td>Masculino</td>\n",
       "      <td>33.000</td>\n",
       "      <td>3</td>\n",
       "      <td>Não</td>\n",
       "      <td>Sudeste</td>\n",
       "      <td>444.946200</td>\n",
       "    </tr>\n",
       "    <tr>\n",
       "      <th>3</th>\n",
       "      <td>33</td>\n",
       "      <td>Masculino</td>\n",
       "      <td>22.705</td>\n",
       "      <td>0</td>\n",
       "      <td>Não</td>\n",
       "      <td>Norte</td>\n",
       "      <td>2198.447061</td>\n",
       "    </tr>\n",
       "    <tr>\n",
       "      <th>4</th>\n",
       "      <td>32</td>\n",
       "      <td>Masculino</td>\n",
       "      <td>28.880</td>\n",
       "      <td>0</td>\n",
       "      <td>Não</td>\n",
       "      <td>Norte</td>\n",
       "      <td>386.685520</td>\n",
       "    </tr>\n",
       "    <tr>\n",
       "      <th>5</th>\n",
       "      <td>31</td>\n",
       "      <td>Feminino</td>\n",
       "      <td>25.740</td>\n",
       "      <td>0</td>\n",
       "      <td>Não</td>\n",
       "      <td>Sudeste</td>\n",
       "      <td>375.662160</td>\n",
       "    </tr>\n",
       "    <tr>\n",
       "      <th>6</th>\n",
       "      <td>46</td>\n",
       "      <td>Feminino</td>\n",
       "      <td>33.440</td>\n",
       "      <td>1</td>\n",
       "      <td>Não</td>\n",
       "      <td>Sudeste</td>\n",
       "      <td>824.058960</td>\n",
       "    </tr>\n",
       "    <tr>\n",
       "      <th>7</th>\n",
       "      <td>37</td>\n",
       "      <td>Feminino</td>\n",
       "      <td>27.740</td>\n",
       "      <td>3</td>\n",
       "      <td>Não</td>\n",
       "      <td>Norte</td>\n",
       "      <td>728.150560</td>\n",
       "    </tr>\n",
       "    <tr>\n",
       "      <th>8</th>\n",
       "      <td>37</td>\n",
       "      <td>Masculino</td>\n",
       "      <td>29.830</td>\n",
       "      <td>2</td>\n",
       "      <td>Não</td>\n",
       "      <td>Nordeste</td>\n",
       "      <td>640.641070</td>\n",
       "    </tr>\n",
       "    <tr>\n",
       "      <th>9</th>\n",
       "      <td>60</td>\n",
       "      <td>Feminino</td>\n",
       "      <td>25.840</td>\n",
       "      <td>0</td>\n",
       "      <td>Não</td>\n",
       "      <td>Norte</td>\n",
       "      <td>2892.313692</td>\n",
       "    </tr>\n",
       "  </tbody>\n",
       "</table>\n",
       "</div>"
      ],
      "text/plain": [
       "   Idade       Sexo     IMC  Qte_Filhos Fumante    Região  Custo_Saude\n",
       "0     19   Feminino  27.900           0     Sim    Centro  1688.492400\n",
       "1     18  Masculino  33.770           1     Não   Sudeste   172.555230\n",
       "2     28  Masculino  33.000           3     Não   Sudeste   444.946200\n",
       "3     33  Masculino  22.705           0     Não     Norte  2198.447061\n",
       "4     32  Masculino  28.880           0     Não     Norte   386.685520\n",
       "5     31   Feminino  25.740           0     Não   Sudeste   375.662160\n",
       "6     46   Feminino  33.440           1     Não   Sudeste   824.058960\n",
       "7     37   Feminino  27.740           3     Não     Norte   728.150560\n",
       "8     37  Masculino  29.830           2     Não  Nordeste   640.641070\n",
       "9     60   Feminino  25.840           0     Não     Norte  2892.313692"
      ]
     },
     "execution_count": 12,
     "metadata": {},
     "output_type": "execute_result"
    }
   ],
   "source": [
    "#retonrar as primeiras 10 linhas\n",
    "dados.head(10)"
   ]
  },
  {
   "cell_type": "code",
   "execution_count": 14,
   "id": "272767d9",
   "metadata": {},
   "outputs": [
    {
     "data": {
      "text/html": [
       "<div>\n",
       "<style scoped>\n",
       "    .dataframe tbody tr th:only-of-type {\n",
       "        vertical-align: middle;\n",
       "    }\n",
       "\n",
       "    .dataframe tbody tr th {\n",
       "        vertical-align: top;\n",
       "    }\n",
       "\n",
       "    .dataframe thead th {\n",
       "        text-align: right;\n",
       "    }\n",
       "</style>\n",
       "<table border=\"1\" class=\"dataframe\">\n",
       "  <thead>\n",
       "    <tr style=\"text-align: right;\">\n",
       "      <th></th>\n",
       "      <th>Idade</th>\n",
       "      <th>IMC</th>\n",
       "      <th>Qte_Filhos</th>\n",
       "      <th>Custo_Saude</th>\n",
       "    </tr>\n",
       "  </thead>\n",
       "  <tbody>\n",
       "    <tr>\n",
       "      <th>count</th>\n",
       "      <td>1338.000000</td>\n",
       "      <td>1338.000000</td>\n",
       "      <td>1338.000000</td>\n",
       "      <td>1338.000000</td>\n",
       "    </tr>\n",
       "    <tr>\n",
       "      <th>mean</th>\n",
       "      <td>39.207025</td>\n",
       "      <td>30.663397</td>\n",
       "      <td>1.094918</td>\n",
       "      <td>1327.042227</td>\n",
       "    </tr>\n",
       "    <tr>\n",
       "      <th>std</th>\n",
       "      <td>14.049960</td>\n",
       "      <td>6.098187</td>\n",
       "      <td>1.205493</td>\n",
       "      <td>1211.001124</td>\n",
       "    </tr>\n",
       "    <tr>\n",
       "      <th>min</th>\n",
       "      <td>18.000000</td>\n",
       "      <td>15.960000</td>\n",
       "      <td>0.000000</td>\n",
       "      <td>112.187390</td>\n",
       "    </tr>\n",
       "    <tr>\n",
       "      <th>25%</th>\n",
       "      <td>27.000000</td>\n",
       "      <td>26.296250</td>\n",
       "      <td>0.000000</td>\n",
       "      <td>474.028715</td>\n",
       "    </tr>\n",
       "    <tr>\n",
       "      <th>50%</th>\n",
       "      <td>39.000000</td>\n",
       "      <td>30.400000</td>\n",
       "      <td>1.000000</td>\n",
       "      <td>938.203300</td>\n",
       "    </tr>\n",
       "    <tr>\n",
       "      <th>75%</th>\n",
       "      <td>51.000000</td>\n",
       "      <td>34.693750</td>\n",
       "      <td>2.000000</td>\n",
       "      <td>1663.991252</td>\n",
       "    </tr>\n",
       "    <tr>\n",
       "      <th>max</th>\n",
       "      <td>64.000000</td>\n",
       "      <td>53.130000</td>\n",
       "      <td>5.000000</td>\n",
       "      <td>6377.042801</td>\n",
       "    </tr>\n",
       "  </tbody>\n",
       "</table>\n",
       "</div>"
      ],
      "text/plain": [
       "             Idade          IMC   Qte_Filhos  Custo_Saude\n",
       "count  1338.000000  1338.000000  1338.000000  1338.000000\n",
       "mean     39.207025    30.663397     1.094918  1327.042227\n",
       "std      14.049960     6.098187     1.205493  1211.001124\n",
       "min      18.000000    15.960000     0.000000   112.187390\n",
       "25%      27.000000    26.296250     0.000000   474.028715\n",
       "50%      39.000000    30.400000     1.000000   938.203300\n",
       "75%      51.000000    34.693750     2.000000  1663.991252\n",
       "max      64.000000    53.130000     5.000000  6377.042801"
      ]
     },
     "execution_count": 14,
     "metadata": {},
     "output_type": "execute_result"
    }
   ],
   "source": [
    "#resumo das principais medidas\n",
    "dados.describe()"
   ]
  },
  {
   "cell_type": "code",
   "execution_count": 18,
   "id": "3a557e65",
   "metadata": {},
   "outputs": [],
   "source": [
    "#gerando um df com a frequencia relativa e absoluta de cada coluna que é qualitativa (object)\n",
    "def gerar_tabelas_frequencia(df, coluna):\n",
    "    if df[coluna].dtype == 'O':  \n",
    "        # Tabela de frequências absolutas\n",
    "        frequencia_absoluta = df[coluna].value_counts()\n",
    "\n",
    "        # Tabela de frequências relativas\n",
    "        frequencia_relativa = df[coluna].value_counts(normalize=True)\n",
    "\n",
    "        # Criando um DataFrame com as duas frequencias\n",
    "        tabela_completa = pd.DataFrame({'Frequência Absoluta': frequencia_absoluta, 'Frequência Relativa': frequencia_relativa})\n",
    "\n",
    "        return tabela_completa\n",
    "    else:\n",
    "        return None"
   ]
  },
  {
   "cell_type": "code",
   "execution_count": 19,
   "id": "18dd6236",
   "metadata": {},
   "outputs": [
    {
     "data": {
      "text/html": [
       "<div>\n",
       "<style scoped>\n",
       "    .dataframe tbody tr th:only-of-type {\n",
       "        vertical-align: middle;\n",
       "    }\n",
       "\n",
       "    .dataframe tbody tr th {\n",
       "        vertical-align: top;\n",
       "    }\n",
       "\n",
       "    .dataframe thead th {\n",
       "        text-align: right;\n",
       "    }\n",
       "</style>\n",
       "<table border=\"1\" class=\"dataframe\">\n",
       "  <thead>\n",
       "    <tr style=\"text-align: right;\">\n",
       "      <th></th>\n",
       "      <th>Frequência Absoluta</th>\n",
       "      <th>Frequência Relativa</th>\n",
       "    </tr>\n",
       "    <tr>\n",
       "      <th>Fumante</th>\n",
       "      <th></th>\n",
       "      <th></th>\n",
       "    </tr>\n",
       "  </thead>\n",
       "  <tbody>\n",
       "    <tr>\n",
       "      <th>Não</th>\n",
       "      <td>1064</td>\n",
       "      <td>0.795217</td>\n",
       "    </tr>\n",
       "    <tr>\n",
       "      <th>Sim</th>\n",
       "      <td>274</td>\n",
       "      <td>0.204783</td>\n",
       "    </tr>\n",
       "  </tbody>\n",
       "</table>\n",
       "</div>"
      ],
      "text/plain": [
       "         Frequência Absoluta  Frequência Relativa\n",
       "Fumante                                          \n",
       "Não                     1064             0.795217\n",
       "Sim                      274             0.204783"
      ]
     },
     "execution_count": 19,
     "metadata": {},
     "output_type": "execute_result"
    }
   ],
   "source": [
    "gerar_tabelas_frequencia(dados,'Fumante')"
   ]
  },
  {
   "cell_type": "code",
   "execution_count": 21,
   "id": "36b33110",
   "metadata": {},
   "outputs": [
    {
     "data": {
      "text/html": [
       "<div>\n",
       "<style scoped>\n",
       "    .dataframe tbody tr th:only-of-type {\n",
       "        vertical-align: middle;\n",
       "    }\n",
       "\n",
       "    .dataframe tbody tr th {\n",
       "        vertical-align: top;\n",
       "    }\n",
       "\n",
       "    .dataframe thead th {\n",
       "        text-align: right;\n",
       "    }\n",
       "</style>\n",
       "<table border=\"1\" class=\"dataframe\">\n",
       "  <thead>\n",
       "    <tr style=\"text-align: right;\">\n",
       "      <th></th>\n",
       "      <th>Frequência Absoluta</th>\n",
       "      <th>Frequência Relativa</th>\n",
       "    </tr>\n",
       "    <tr>\n",
       "      <th>Região</th>\n",
       "      <th></th>\n",
       "      <th></th>\n",
       "    </tr>\n",
       "  </thead>\n",
       "  <tbody>\n",
       "    <tr>\n",
       "      <th>Sudeste</th>\n",
       "      <td>364</td>\n",
       "      <td>0.272048</td>\n",
       "    </tr>\n",
       "    <tr>\n",
       "      <th>Centro</th>\n",
       "      <td>325</td>\n",
       "      <td>0.242900</td>\n",
       "    </tr>\n",
       "    <tr>\n",
       "      <th>Norte</th>\n",
       "      <td>325</td>\n",
       "      <td>0.242900</td>\n",
       "    </tr>\n",
       "    <tr>\n",
       "      <th>Nordeste</th>\n",
       "      <td>324</td>\n",
       "      <td>0.242152</td>\n",
       "    </tr>\n",
       "  </tbody>\n",
       "</table>\n",
       "</div>"
      ],
      "text/plain": [
       "          Frequência Absoluta  Frequência Relativa\n",
       "Região                                            \n",
       "Sudeste                   364             0.272048\n",
       "Centro                    325             0.242900\n",
       "Norte                     325             0.242900\n",
       "Nordeste                  324             0.242152"
      ]
     },
     "execution_count": 21,
     "metadata": {},
     "output_type": "execute_result"
    }
   ],
   "source": [
    "gerar_tabelas_frequencia(dados,'Região')"
   ]
  },
  {
   "cell_type": "code",
   "execution_count": 24,
   "id": "bd25d928",
   "metadata": {},
   "outputs": [
    {
     "data": {
      "image/png": "[encoded data removed]",
      "text/plain": [
       "<Figure size 1600x400 with 4 Axes>"
      ]
     },
     "metadata": {},
     "output_type": "display_data"
    }
   ],
   "source": [
    "#gerando gráficos para variavies qualitativas\n",
    "\n",
    "dados_quantitativos = dados[['Custo_Saude', 'IMC', 'Qte_Filhos', 'Idade']]\n",
    "\n",
    "# Histogramas\n",
    "plt.figure(figsize=(16, 4))\n",
    "plt.subplot(1, 4, 1)\n",
    "sns.histplot(dados_quantitativos['Custo_Saude'], bins=20, kde=True)\n",
    "plt.title('Histograma - Custo do Plano de Saúde')\n",
    "\n",
    "plt.subplot(1, 4, 2)\n",
    "sns.histplot(dados_quantitativos['IMC'], bins=20, kde=True)\n",
    "plt.title('Histograma - Índice de Massa Corpórea (IMC)')\n",
    "\n",
    "plt.subplot(1, 4, 3)\n",
    "sns.histplot(dados_quantitativos['Idade'], bins=20, kde=True)\n",
    "plt.title('Histograma - Idade')\n",
    "\n",
    "plt.subplot(1, 4, 4)\n",
    "sns.histplot(dados_quantitativos['Qte_Filhos'], bins=10, kde=True)\n",
    "plt.title('Histograma - Quantidade de Filhos')\n",
    "\n",
    "plt.tight_layout()\n",
    "plt.show()\n"
   ]
  },
  {
   "cell_type": "code",
   "execution_count": 26,
   "id": "36c0e720",
   "metadata": {},
   "outputs": [
    {
     "data": {
      "image/png": "[encoded data removed]",
      "text/plain": [
       "<Figure size 1200x400 with 4 Axes>"
      ]
     },
     "metadata": {},
     "output_type": "display_data"
    }
   ],
   "source": [
    "# Box-Plots\n",
    "plt.figure(figsize=(12, 4))\n",
    "plt.subplot(1, 4, 1)\n",
    "sns.boxplot(y=dados_quantitativos['Custo_Saude'])\n",
    "plt.title('Box-Plot - Custo do Plano de Saúde')\n",
    "\n",
    "plt.subplot(1, 4, 2)\n",
    "sns.boxplot(y=dados_quantitativos['IMC'])\n",
    "plt.title('Box-Plot - Índice de Massa Corpórea (IMC)')\n",
    "\n",
    "plt.subplot(1, 4, 3)\n",
    "sns.boxplot(y=dados_quantitativos['Idade'])\n",
    "plt.title('Box-Plot - Idade')\n",
    "\n",
    "plt.subplot(1, 4, 4)\n",
    "sns.boxplot(y=dados_quantitativos['Qte_Filhos'])\n",
    "plt.title('Box-Plot - Quantidade de Filhos')\n",
    "\n",
    "plt.tight_layout()\n",
    "plt.show()"
   ]
  },
  {
   "cell_type": "markdown",
   "id": "b0e6130d",
   "metadata": {},
   "source": [
    "## Análise de Correlação"
   ]
  },
  {
   "cell_type": "code",
   "execution_count": 49,
   "id": "8d7dd5e1",
   "metadata": {},
   "outputs": [
    {
     "name": "stdout",
     "output_type": "stream",
     "text": [
      "      IMC    Faixa_IMC\n",
      "0  27.900    Sobrepeso\n",
      "1  33.770  Obesidade I\n",
      "2  33.000  Obesidade I\n",
      "3  22.705  Peso Normal\n",
      "4  28.880    Sobrepeso\n"
     ]
    },
    {
     "name": "stderr",
     "output_type": "stream",
     "text": [
      "C:\\Users\\Nexodata\\AppData\\Local\\Temp\\ipykernel_27924\\2000697463.py:4: SettingWithCopyWarning: \n",
      "A value is trying to be set on a copy of a slice from a DataFrame.\n",
      "Try using .loc[row_indexer,col_indexer] = value instead\n",
      "\n",
      "See the caveats in the documentation: https://pandas.pydata.org/pandas-docs/stable/user_guide/indexing.html#returning-a-view-versus-a-copy\n",
      "  dados_quantitativos['Faixa_IMC'] = pd.cut(dados_quantitativos['IMC'], bins=faixas_imc, labels=categorias_imc, right=False)\n"
     ]
    }
   ],
   "source": [
    "#faixa de IMC baseada nas politicas publicas\n",
    "faixas_imc = [0, 18.5, 24.9, 29.9, 34.9, 39.9, float('inf')]\n",
    "categorias_imc = ['Abaixo do Peso', 'Peso Normal', 'Sobrepeso', 'Obesidade I', 'Obesidade II', 'Obesidade III']\n",
    "dados_quantitativos['Faixa_IMC'] = pd.cut(dados_quantitativos['IMC'], bins=faixas_imc, labels=categorias_imc, right=False)\n",
    "print(dados_quantitativos[['IMC', 'Faixa_IMC']].head())\n",
    "dados['Faixa_IMC'] = pd.cut(dados['IMC'], bins=faixas_imc, labels=categorias_imc, right=False)"
   ]
  },
  {
   "cell_type": "code",
   "execution_count": 52,
   "id": "46e7e157",
   "metadata": {},
   "outputs": [
    {
     "name": "stdout",
     "output_type": "stream",
     "text": [
      "Correlação Linear entre Custo_Saude e Variáveis Dummy:\n",
      "Qte_Filhos                  0.067998\n",
      "Idade                       0.299008\n",
      "Fumante_Não                -0.787251\n",
      "Fumante_Sim                 0.787251\n",
      "Sexo_Feminino              -0.057292\n",
      "Sexo_Masculino              0.057292\n",
      "Região_Centro              -0.043210\n",
      "Região_Nordeste             0.006349\n",
      "Região_Norte               -0.039905\n",
      "Região_Sudeste              0.073982\n",
      "Faixa_IMC_Abaixo do Peso   -0.044960\n",
      "Faixa_IMC_Peso Normal      -0.106512\n",
      "Faixa_IMC_Sobrepeso        -0.115902\n",
      "Faixa_IMC_Obesidade I       0.045726\n",
      "Faixa_IMC_Obesidade II      0.145833\n",
      "Faixa_IMC_Obesidade III     0.084753\n",
      "Custo_Saude                 1.000000\n",
      "Name: Custo_Saude, dtype: float64\n"
     ]
    }
   ],
   "source": [
    "# Correlação linear\n",
    "dados_quantitativos = dados[['Custo_Saude', 'Qte_Filhos', 'Idade', 'Fumante', 'Sexo', 'Região','Faixa_IMC']]\n",
    "\n",
    "# Criar variáveis dummy para as variáveis categóricas\n",
    "X = pd.get_dummies(dados_quantitativos[['Qte_Filhos', 'Idade', 'Fumante', 'Sexo', 'Região','Faixa_IMC']], \n",
    "                   columns=['Fumante', 'Sexo', 'Região','Faixa_IMC'])\n",
    "\n",
    "# Adicionar variáveis quantitativas ao DataFrame X\n",
    "X[['Custo_Saude']] = dados_quantitativos[['Custo_Saude']]\n",
    "\n",
    "# Calcular a matriz de correlação\n",
    "correlacao_custo = X.corr()['Custo_Saude']\n",
    "\n",
    "print(\"Correlação Linear entre Custo_Saude e Variáveis Dummy:\")\n",
    "print(correlacao_custo)\n"
   ]
  },
  {
   "cell_type": "code",
   "execution_count": 54,
   "id": "cd19788a",
   "metadata": {
    "scrolled": true
   },
   "outputs": [
    {
     "name": "stdout",
     "output_type": "stream",
     "text": [
      "Coeficiente de Determinação (R²): 0.7791788796370387\n"
     ]
    }
   ],
   "source": [
    "# Coeficiente de Determinação (R²) - testando todas as variaveis juntas\n",
    "X = pd.get_dummies(pd.get_dummies(dados_quantitativos[['Qte_Filhos', 'Idade', 'Fumante', 'Sexo', 'Região','Faixa_IMC']], \n",
    "                   columns=['Fumante', 'Sexo', 'Região','Faixa_IMC']))\n",
    "                   \n",
    "y = dados_quantitativos['Custo_Saude']\n",
    "\n",
    "#dividir em treinamento e teste sendo o tamanho do teste 20%\n",
    "X_train, X_test, y_train, y_test = train_test_split(X, y, test_size=0.2, random_state=42)\n",
    "\n",
    "modelo = LinearRegression()\n",
    "modelo.fit(X_train, y_train)\n",
    "\n",
    "y_pred = modelo.predict(X_test)\n",
    "r2 = r2_score(y_test, y_pred)\n",
    "print(f\"Coeficiente de Determinação (R²): {r2}\")"
   ]
  },
  {
   "cell_type": "code",
   "execution_count": 55,
   "id": "9c664906",
   "metadata": {},
   "outputs": [
    {
     "name": "stdout",
     "output_type": "stream",
     "text": [
      "Coeficiente de Determinação (R²) para Qte_Filhos: 0.005380908218862612\n",
      "Coeficiente de Determinação (R²) para Idade: 0.08875176443312427\n",
      "Coeficiente de Determinação (R²) para Fumante: 0.6602486589056529\n",
      "Coeficiente de Determinação (R²) para Sexo: 0.002612126063356701\n",
      "Coeficiente de Determinação (R²) para Região: 0.012147563526654137\n",
      "Coeficiente de Determinação (R²) para Faixa_IMC: 0.036374169818346624\n"
     ]
    }
   ],
   "source": [
    "# Lista de variáveis explicativas\n",
    "variaveis_explicativas = ['Qte_Filhos', 'Idade', 'Fumante', 'Sexo', 'Região','Faixa_IMC']\n",
    "\n",
    "# Lfazer o r2 para cada varivel\n",
    "for variavel in variaveis_explicativas:\n",
    "    # Cria X usando apenas a variável iterada\n",
    "    X_variavel = pd.get_dummies(dados_quantitativos[[variavel]], columns=[variavel])\n",
    "    \n",
    "    #dividir em treinamento e teste sendo o tamanho do teste 20%\n",
    "    X_train_variavel, X_test_variavel, y_train_variavel, y_test_variavel = train_test_split(X_variavel, y, test_size=0.2, random_state=42)\n",
    "    \n",
    "    # Cria e ajusta o modelo\n",
    "    modelo_variavel = LinearRegression()\n",
    "    modelo_variavel.fit(X_train_variavel, y_train_variavel)\n",
    "    y_pred_variavel = modelo_variavel.predict(X_test_variavel)\n",
    "    r2_variavel = r2_score(y_test_variavel, y_pred_variavel)\n",
    "    print(f\"Coeficiente de Determinação (R²) para {variavel}: {r2_variavel}\")\n"
   ]
  },
  {
   "cell_type": "markdown",
   "id": "92409ec3",
   "metadata": {},
   "source": [
    "## Regressao linear múltipla"
   ]
  },
  {
   "cell_type": "code",
   "execution_count": 56,
   "id": "fe68b302",
   "metadata": {},
   "outputs": [
    {
     "name": "stdout",
     "output_type": "stream",
     "text": [
      "Coeficientes da Regressão Linear Múltipla:\n",
      "                    Variável  Coeficiente\n",
      "0                 Qte_Filhos    50.134969\n",
      "1                      Idade    25.570336\n",
      "2                Fumante_Não -1191.436476\n",
      "3                Fumante_Sim  1191.436476\n",
      "4              Sexo_Feminino     6.754740\n",
      "5             Sexo_Masculino    -6.754740\n",
      "6              Região_Centro   -41.428012\n",
      "7            Região_Nordeste    57.366819\n",
      "8               Região_Norte    17.031781\n",
      "9             Região_Sudeste   -32.970588\n",
      "10  Faixa_IMC_Abaixo do Peso  -371.115642\n",
      "11     Faixa_IMC_Peso Normal  -254.154402\n",
      "12       Faixa_IMC_Sobrepeso  -151.663562\n",
      "13     Faixa_IMC_Obesidade I   160.014187\n",
      "14    Faixa_IMC_Obesidade II   315.353603\n",
      "15   Faixa_IMC_Obesidade III   301.565816\n"
     ]
    }
   ],
   "source": [
    "# Regressão Linear Múltipla\n",
    "modelo_geral = LinearRegression()\n",
    "modelo_geral.fit(X, y)\n",
    "\n",
    "coeficientes = pd.DataFrame({\n",
    "    'Variável': X.columns,\n",
    "    'Coeficiente': modelo_geral.coef_\n",
    "})\n",
    "print(\"Coeficientes da Regressão Linear Múltipla:\")\n",
    "print(coeficientes)"
   ]
  }
 ],
 "metadata": {
  "kernelspec": {
   "display_name": "Python 3 (ipykernel)",
   "language": "python",
   "name": "python3"
  },
  "language_info": {
   "codemirror_mode": {
    "name": "ipython",
    "version": 3
   },
   "file_extension": ".py",
   "mimetype": "text/x-python",
   "name": "python",
   "nbconvert_exporter": "python",
   "pygments_lexer": "ipython3",
   "version": "3.11.5"
  }
 },
 "nbformat": 4,
 "nbformat_minor": 5
}
